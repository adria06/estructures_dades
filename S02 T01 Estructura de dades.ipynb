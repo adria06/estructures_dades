{
 "cells": [
  {
   "cell_type": "markdown",
   "id": "3a622dc3",
   "metadata": {},
   "source": [
    "## S02 T01:Estructura de dades\n",
    "**Objectiu** Llistes, tuples, Sets y Diccionaris"
   ]
  },
  {
   "cell_type": "markdown",
   "id": "f20b23b3",
   "metadata": {},
   "source": [
    "## Exercici 1. Crea una llista que agrupi els mesos de l’any en trimestres (1T: Gener, Febrer i Març, 2T: Abril, Maig, Juny...), és a dir, una llista amb 4 llistes dins"
   ]
  },
  {
   "cell_type": "code",
   "execution_count": 1,
   "id": "7ba1f32c",
   "metadata": {},
   "outputs": [],
   "source": [
    "any = [[\"Gener\", \"Febrer\", \"Març\"], [\"Abril\", \"Maig\", \"June\"], [\"Juliol\", \"Agost\", \"Setembre\"], [\"Octubre\", \"Novembre\", \"Decembre\"]]"
   ]
  },
  {
   "cell_type": "markdown",
   "id": "9b10d892",
   "metadata": {},
   "source": [
    "## Exercici 2. Crea un codi que et permeti accedir a:\n",
    " * El segon mes del primer trimestre"
   ]
  },
  {
   "cell_type": "code",
   "execution_count": 2,
   "id": "a3b34b10",
   "metadata": {},
   "outputs": [
    {
     "name": "stdout",
     "output_type": "stream",
     "text": [
      "El segon mes del primer trimestre es Febrer\n"
     ]
    }
   ],
   "source": [
    "print('El segon mes del primer trimestre es', any[0][1])"
   ]
  },
  {
   "cell_type": "markdown",
   "id": "4f75d1d4",
   "metadata": {},
   "source": [
    " * Els mesos del primer trimestre"
   ]
  },
  {
   "cell_type": "code",
   "execution_count": 3,
   "id": "20e71904",
   "metadata": {},
   "outputs": [
    {
     "name": "stdout",
     "output_type": "stream",
     "text": [
      "Els mesos del primer trimestre son Gener, Febrer, Març\n"
     ]
    }
   ],
   "source": [
    "print('Els mesos del primer trimestre son', ', '.join(any[0]))"
   ]
  },
  {
   "cell_type": "markdown",
   "id": "8831f40f",
   "metadata": {},
   "source": [
    "* Setembre i Octubre"
   ]
  },
  {
   "cell_type": "code",
   "execution_count": 4,
   "id": "f5d2ed54",
   "metadata": {},
   "outputs": [
    {
     "name": "stdout",
     "output_type": "stream",
     "text": [
      "Setembre Octubre\n"
     ]
    }
   ],
   "source": [
    "print(any[2][2], any[3][0])"
   ]
  },
  {
   "cell_type": "markdown",
   "id": "6b3bbd99",
   "metadata": {},
   "source": [
    "## Exercici 3. Crea una llista amb nombres desordenats i respon a les següents preguntes:"
   ]
  },
  {
   "cell_type": "markdown",
   "id": "4e14c157",
   "metadata": {},
   "source": [
    "Creem una llista amb 10 numeros aleatoris"
   ]
  },
  {
   "cell_type": "code",
   "execution_count": 5,
   "id": "9fc0aa73",
   "metadata": {},
   "outputs": [
    {
     "name": "stdout",
     "output_type": "stream",
     "text": [
      "[3, 0, 10, 1, 10, 4, 7, 5, 10, 4]\n"
     ]
    }
   ],
   "source": [
    "import random\n",
    "llista=[]\n",
    "for i in range(10):\n",
    "    llista.append(random.randint(0,10))\n",
    "print (llista)"
   ]
  },
  {
   "cell_type": "markdown",
   "id": "bc1a12c9",
   "metadata": {},
   "source": [
    " * Quants números hi ha?"
   ]
  },
  {
   "cell_type": "code",
   "execution_count": 6,
   "id": "68e829cf",
   "metadata": {},
   "outputs": [
    {
     "name": "stdout",
     "output_type": "stream",
     "text": [
      "La llista té 10 números\n"
     ]
    }
   ],
   "source": [
    "print('La llista té', len(llista),'números')"
   ]
  },
  {
   "cell_type": "markdown",
   "id": "33c39794",
   "metadata": {},
   "source": [
    "* Quantes vegades apareix el número 3"
   ]
  },
  {
   "cell_type": "code",
   "execution_count": 7,
   "id": "da7e7f4d",
   "metadata": {},
   "outputs": [
    {
     "name": "stdout",
     "output_type": "stream",
     "text": [
      "El 3 apareix 1 vegada\n"
     ]
    }
   ],
   "source": [
    "if llista.count(3)!=1:\n",
    "    print('El 3 apareix', llista.count(3), 'vegades')\n",
    "else:\n",
    "    print('El 3 apareix 1 vegada')"
   ]
  },
  {
   "cell_type": "markdown",
   "id": "16cb196a",
   "metadata": {},
   "source": [
    "* Quantes vegades apareitex els nombres 3 i 4?"
   ]
  },
  {
   "cell_type": "code",
   "execution_count": 18,
   "id": "c0c60482",
   "metadata": {},
   "outputs": [
    {
     "name": "stdout",
     "output_type": "stream",
     "text": [
      "El 3 i el 4 apareixen 3 vegades\n"
     ]
    }
   ],
   "source": [
    "suma3i4 = llista.count(3) + llista.count(4)\n",
    "if suma3i4!=1:\n",
    "    print('El 3 i el 4 apareixen', suma3i4, 'vegades')\n",
    "else:\n",
    "    print('El 3 o el 4 apareix 1 vegada')"
   ]
  },
  {
   "cell_type": "markdown",
   "id": "18a73d51",
   "metadata": {},
   "source": [
    "* Quin és el número més gran?"
   ]
  },
  {
   "cell_type": "code",
   "execution_count": 9,
   "id": "fce43584",
   "metadata": {},
   "outputs": [
    {
     "name": "stdout",
     "output_type": "stream",
     "text": [
      "El número mes gran de la llista es el 10\n"
     ]
    }
   ],
   "source": [
    "print('El número mes gran de la llista es el', max(llista))"
   ]
  },
  {
   "cell_type": "markdown",
   "id": "b0a7a4a0",
   "metadata": {},
   "source": [
    "* Quin son els 3 números més petits?\n",
    "(Desenvolupat per mi)"
   ]
  },
  {
   "cell_type": "code",
   "execution_count": 10,
   "id": "48a021cb",
   "metadata": {},
   "outputs": [
    {
     "name": "stdout",
     "output_type": "stream",
     "text": [
      "Els 3 valors minims son el 3, 0, 1\n"
     ]
    }
   ],
   "source": [
    "llista3Min = [11,11,11]\n",
    "for i in range(len(llista)):\n",
    "    maxInLlista = max(llista3Min)\n",
    "    if llista[i]<maxInLlista:\n",
    "        llista3Min.append(llista[i])\n",
    "        llista3Min.remove(maxInLlista)\n",
    "print ('Els 3 valors minims son el', ', '.join(map(str, llista3Min)))"
   ]
  },
  {
   "cell_type": "markdown",
   "id": "7a7280c8",
   "metadata": {},
   "source": [
    "* Quin son els 3 números més petits?\n",
    "(Trobat a internet)"
   ]
  },
  {
   "cell_type": "code",
   "execution_count": 11,
   "id": "d0da376f",
   "metadata": {},
   "outputs": [
    {
     "name": "stdout",
     "output_type": "stream",
     "text": [
      "Els 3 valors minims son el 0, 1, 3\n"
     ]
    }
   ],
   "source": [
    "llista3Min = sorted(llista)[:3]\n",
    "print ('Els 3 valors minims son el', ', '.join(map(str, llista3Min)))"
   ]
  },
  {
   "cell_type": "markdown",
   "id": "048779cf",
   "metadata": {},
   "source": [
    "* Quin és el rang d'aquesta llista?"
   ]
  },
  {
   "cell_type": "code",
   "execution_count": 12,
   "id": "db1dea18",
   "metadata": {},
   "outputs": [
    {
     "name": "stdout",
     "output_type": "stream",
     "text": [
      "El rang de la llista aleatoria va del 0 al 10\n"
     ]
    }
   ],
   "source": [
    "MaxLlista = max(llista)\n",
    "MinLlista = min(llista)\n",
    "print ('El rang de la llista aleatoria va del', MinLlista, 'al', MaxLlista)"
   ]
  },
  {
   "cell_type": "markdown",
   "id": "c696d399",
   "metadata": {},
   "source": [
    "## Exercici 4. Crea un diccionari de la següent forma i respon a les preguntes:\n",
    "compra = { \"Pomes\" : {\"Qty\": 5, \"€\": 0.42}, \"Peres\" : {\"Qty\": 3, \"€\": 0.66} }\n",
    " * Afegeix alguna fruita més"
   ]
  },
  {
   "cell_type": "code",
   "execution_count": 13,
   "id": "d6eab8c5",
   "metadata": {},
   "outputs": [
    {
     "name": "stdout",
     "output_type": "stream",
     "text": [
      "{'Pomes': {'Qty': 5, '€': 0.42}, 'Peres': {'Qty': 3, '€': 0.66}, 'Platans': {'Qty': 4, '€': 0.3}}\n"
     ]
    }
   ],
   "source": [
    "compra = { \"Pomes\" : {\"Qty\": 5, \"€\": 0.42}, \"Peres\" : {\"Qty\": 3, \"€\": 0.66} }\n",
    "compra[\"Platans\"] = ({\"Qty\": 4, \"€\": 0.3})\n",
    "print (compra)"
   ]
  },
  {
   "cell_type": "markdown",
   "id": "77156eff",
   "metadata": {},
   "source": [
    "* Quant han costat les peres en total?"
   ]
  },
  {
   "cell_type": "code",
   "execution_count": 14,
   "id": "34603024",
   "metadata": {},
   "outputs": [
    {
     "name": "stdout",
     "output_type": "stream",
     "text": [
      "El cost total de les peres es 1.98 €\n"
     ]
    }
   ],
   "source": [
    "costPeres = compra.get(\"Peres\").get(\"Qty\") * compra.get(\"Peres\").get(\"€\")\n",
    "print('El cost total de les peres es', costPeres, '€')"
   ]
  },
  {
   "cell_type": "markdown",
   "id": "bc8e17d6",
   "metadata": {},
   "source": [
    "* Quantes fruites hem comprat en total?"
   ]
  },
  {
   "cell_type": "code",
   "execution_count": 15,
   "id": "fc16f9d7",
   "metadata": {},
   "outputs": [
    {
     "name": "stdout",
     "output_type": "stream",
     "text": [
      "Hem comprat 3 fruites\n"
     ]
    }
   ],
   "source": [
    "print ('Hem comprat', len(compra), 'fruites')"
   ]
  },
  {
   "cell_type": "markdown",
   "id": "b4fdd34a",
   "metadata": {},
   "source": [
    "* Quina és la fruita més cara?"
   ]
  },
  {
   "cell_type": "code",
   "execution_count": 16,
   "id": "d433b30e",
   "metadata": {},
   "outputs": [
    {
     "name": "stdout",
     "output_type": "stream",
     "text": [
      "La fruita més cara son els/les Platans\n"
     ]
    }
   ],
   "source": [
    "maxPreu=0\n",
    "for i in compra:\n",
    "    if maxPreu < compra.get(i).get(\"€\"):\n",
    "        fruitaCara = i\n",
    "        \n",
    "print ('La fruita més cara son els/les', fruitaCara)"
   ]
  }
 ],
 "metadata": {
  "hide_input": false,
  "kernelspec": {
   "display_name": "Python 3",
   "language": "python",
   "name": "python3"
  },
  "language_info": {
   "codemirror_mode": {
    "name": "ipython",
    "version": 3
   },
   "file_extension": ".py",
   "mimetype": "text/x-python",
   "name": "python",
   "nbconvert_exporter": "python",
   "pygments_lexer": "ipython3",
   "version": "3.8.8"
  },
  "toc": {
   "base_numbering": 1,
   "nav_menu": {},
   "number_sections": true,
   "sideBar": true,
   "skip_h1_title": false,
   "title_cell": "Table of Contents",
   "title_sidebar": "Contents",
   "toc_cell": false,
   "toc_position": {},
   "toc_section_display": true,
   "toc_window_display": false
  },
  "varInspector": {
   "cols": {
    "lenName": 16,
    "lenType": 16,
    "lenVar": 40
   },
   "kernels_config": {
    "python": {
     "delete_cmd_postfix": "",
     "delete_cmd_prefix": "del ",
     "library": "var_list.py",
     "varRefreshCmd": "print(var_dic_list())"
    },
    "r": {
     "delete_cmd_postfix": ") ",
     "delete_cmd_prefix": "rm(",
     "library": "var_list.r",
     "varRefreshCmd": "cat(var_dic_list()) "
    }
   },
   "types_to_exclude": [
    "module",
    "function",
    "builtin_function_or_method",
    "instance",
    "_Feature"
   ],
   "window_display": false
  }
 },
 "nbformat": 4,
 "nbformat_minor": 5
}
